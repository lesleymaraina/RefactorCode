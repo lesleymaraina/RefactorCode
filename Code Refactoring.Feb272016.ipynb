{
 "cells": [
  {
   "cell_type": "markdown",
   "metadata": {},
   "source": [
    "# Code Refactoring"
   ]
  },
  {
   "cell_type": "markdown",
   "metadata": {},
   "source": [
    "Summary of the problem:"
   ]
  },
  {
   "cell_type": "markdown",
   "metadata": {},
   "source": [
    "In order to display streaming data in the form of a graph, two python files were written:\n",
    "\n",
    "tweet_stream.py: collects streaming twitter data\n",
    "\n",
    "original.py: code that displays data as a Bokeh graph based on parameters from the streamed data\n",
    "\n",
    "The first python file runs fine and I am able to store data locally:"
   ]
  },
  {
   "cell_type": "markdown",
   "metadata": {},
   "source": [
    "tweet_stream.py"
   ]
  },
  {
   "cell_type": "code",
   "execution_count": null,
   "metadata": {
    "collapsed": true
   },
   "outputs": [],
   "source": [
    "from tweepy.streaming import StreamListener\n",
    "from tweepy import OAuthHandler\n",
    "from tweepy import Stream\n",
    "import json\n",
    "\n",
    "#Variables that contains the user credentials to access Twitter API \n",
    "access_token = ''\n",
    "access_token_secret = ''\n",
    "consumer_key = ''\n",
    "consumer_secret = ''\n",
    "\n",
    "\n",
    "\n",
    "#This is a basic listener that just prints received tweets to stdout.\n",
    "class StdOutListener(StreamListener):\n",
    "\n",
    "    def on_data(self, data):\n",
    "        print data\n",
    "        return True\n",
    "\n",
    "    def on_error(self, status):\n",
    "        print status\n",
    "\n",
    "\n",
    "if __name__ == '__main__':\n",
    "\n",
    "    #This handles Twitter authetification and the connection to Twitter Streaming API\n",
    "    l = StdOutListener()\n",
    "    auth = OAuthHandler(consumer_key, consumer_secret)\n",
    "    auth.set_access_token(access_token, access_token_secret)\n",
    "    stream = Stream(auth, l)\n",
    "\n",
    "    #This line filter Twitter Streams to capture data by the keywords: 'python', 'javascript', 'ruby'\n",
    "    stream.filter(track=['python', 'javascript', 'ruby'])"
   ]
  },
  {
   "cell_type": "markdown",
   "metadata": {},
   "source": [
    "Streaming data can be stored locally in a text file:"
   ]
  },
  {
   "cell_type": "code",
   "execution_count": null,
   "metadata": {
    "collapsed": true
   },
   "outputs": [],
   "source": [
    "python tweet_stream.py > yall5.txt"
   ]
  },
  {
   "cell_type": "markdown",
   "metadata": {},
   "source": [
    "When I run original.py*, I get a number errors.\n",
    "\n",
    "*(see the following for original code: https://github.com/lesleymaraina/RefactorCode)"
   ]
  },
  {
   "cell_type": "markdown",
   "metadata": {},
   "source": [
    "## Challenge"
   ]
  },
  {
   "cell_type": "markdown",
   "metadata": {},
   "source": [
    "I would like to learn more about the general strategies used to refactor code written in iPython Notebook format so that I can run code independently of iPython notebook. The following highlights what I learned on Saturday and also notes a few additional questions. Your feedback would be greatly appreciated :)."
   ]
  },
  {
   "cell_type": "markdown",
   "metadata": {},
   "source": [
    "### Strategy 1. Identify and list global variables used throughout the code in a new section at the top of the code. \n",
    "\n",
    "See the following as an example:"
   ]
  },
  {
   "cell_type": "markdown",
   "metadata": {},
   "source": [
    "Original code:"
   ]
  },
  {
   "cell_type": "code",
   "execution_count": null,
   "metadata": {
    "collapsed": true
   },
   "outputs": [],
   "source": [
    "f.scatter(geo_tweets[geo_tweets[\"python\"]].latt, geo_tweets[geo_tweets[\"python\"]].long, color=\"indianred\", legend=\"javascript\")\n",
    "f.scatter(geo_tweets[geo_tweets[\"javascript\"]].latt, geo_tweets[geo_tweets[\"javascript\"]].long, color=\"indianred\")\n",
    "f.scatter(geo_tweets[geo_tweets[\"ruby\"]].latt, geo_tweets[geo_tweets[\"ruby\"]].long, color=\"blue\",\n",
    "          legend='ruby')\n"
   ]
  },
  {
   "cell_type": "markdown",
   "metadata": {},
   "source": [
    "Strategy: Assign the following terms to a single variable: \"python\", \"javascript\", and \"ruby\". These are terms used repeatedly throughout the code and could also be used by other members of the team. List the new variable are the top of the code."
   ]
  },
  {
   "cell_type": "markdown",
   "metadata": {},
   "source": [
    "Modified code:"
   ]
  },
  {
   "cell_type": "code",
   "execution_count": null,
   "metadata": {
    "collapsed": true
   },
   "outputs": [],
   "source": [
    "########################################################\n",
    "# GLOBAL VARIABLES\n",
    "########################################################\n",
    "\"\"\"\n",
    "these will be variables that will be used by EVERY user who runs this code\n",
    "\"\"\"\n",
    "global_search_terms = ['python', 'javascript', 'ruby']"
   ]
  },
  {
   "cell_type": "markdown",
   "metadata": {},
   "source": [
    "Q1: Other than identifying terms used repeatedly throughout the code, are there other patterns in the code that you look for that can be assigned as global variables?"
   ]
  },
  {
   "cell_type": "markdown",
   "metadata": {},
   "source": [
    "### Strategy 2. Encapsulating blocks of code as independent functions"
   ]
  },
  {
   "cell_type": "markdown",
   "metadata": {},
   "source": [
    "Code is often written in an abbreviated format that can be run in iPython Notebook development environments. Yet, when the code is copied into a seperate python file, I often run into errors when I try to run the code (see original.py)"
   ]
  },
  {
   "cell_type": "markdown",
   "metadata": {},
   "source": [
    "The following block of code was encapsulated in an indpendent function."
   ]
  },
  {
   "cell_type": "markdown",
   "metadata": {},
   "source": [
    "Original Code:"
   ]
  },
  {
   "cell_type": "code",
   "execution_count": null,
   "metadata": {
    "collapsed": true
   },
   "outputs": [],
   "source": [
    "f = figure(plot_width=1200, plot_height=900)\n",
    "    \n",
    "firstterm = f.scatter(geo_tweets[geo_tweets[global_search_terms[0]]].latt, geo_tweets[geo_tweets[global_search_terms[0]]].long, color=\"indianred\", legend=\"python\")\n",
    "secondterm = f.scatter(geo_tweets[geo_tweets[global_search_terms[1]]].latt, geo_tweets[geo_tweets[global_search_terms[1]]].long, color=\"indianred\")\n",
    "thirdterm = f.scatter(geo_tweets[geo_tweets[global_search_terms[2]]].latt, geo_tweets[geo_tweets[global_search_terms[2]]].long, color=\"blue\",\n",
    "                          legend='you guys')\n",
    "        \n",
    "# stylistic stuff:                      \n",
    "f.grid.grid_line_color = None\n",
    "f.xaxis.axis_line_color = None\n",
    "f.yaxis.axis_line_color = None\n",
    "f.yaxis.major_tick_line_color = None\n",
    "f.axis.major_label_standoff = 0                   \n",
    "show(f)"
   ]
  },
  {
   "cell_type": "markdown",
   "metadata": {},
   "source": [
    "Modified Code:"
   ]
  },
  {
   "cell_type": "code",
   "execution_count": null,
   "metadata": {
    "collapsed": true
   },
   "outputs": [],
   "source": [
    "def plotter(firstterm,secondterm,thirdterm):\n",
    "    f = figure(plot_width=1200, plot_height=900)\n",
    "    \n",
    "    firstterm = f.scatter(geo_tweets[geo_tweets[global_search_terms[0]]].latt, geo_tweets[geo_tweets[global_search_terms[0]]].long, color=\"indianred\", legend=\"python\")\n",
    "    secondterm = f.scatter(geo_tweets[geo_tweets[global_search_terms[1]]].latt, geo_tweets[geo_tweets[global_search_terms[1]]].long, color=\"indianred\")\n",
    "    thirdterm = f.scatter(geo_tweets[geo_tweets[global_search_terms[2]]].latt, geo_tweets[geo_tweets[global_search_terms[2]]].long, color=\"blue\",\n",
    "                          legend='you guys')\n",
    "        \n",
    "    # stylistic stuff:                      \n",
    "    f.grid.grid_line_color = None\n",
    "    f.xaxis.axis_line_color = None\n",
    "    f.yaxis.axis_line_color = None\n",
    "    f.yaxis.major_tick_line_color = None\n",
    "    f.axis.major_label_standoff = 0                   \n",
    "    show(f)"
   ]
  },
  {
   "cell_type": "markdown",
   "metadata": {},
   "source": [
    "Q2. When reviewing code in its original iPython Notebook format, what are the indicators of the beginning and end of a function? Are methods such as \"return\" and \"show()\" always used to indicate breaks between independent functions?"
   ]
  },
  {
   "cell_type": "markdown",
   "metadata": {},
   "source": [
    "Q3: Why were the f.scatter lines of code assigned to variables? Did I assign them correctly?"
   ]
  },
  {
   "cell_type": "markdown",
   "metadata": {},
   "source": [
    "### Strategy 3: Store variables in a __main__ function"
   ]
  },
  {
   "cell_type": "markdown",
   "metadata": {},
   "source": [
    "Specific varables within the python code were assigned to the __main__ function. These variables use functions defined in previous lines of code which is why they are stored in the __main__ function.\n",
    "Q3: Did I describe this correctly? By storing these variables in the __main__ function, does this esssentially tell Python to execute the previously defined functions (ie:pop_tweets, pop_keys) when the code is run in the terminal?"
   ]
  },
  {
   "cell_type": "markdown",
   "metadata": {},
   "source": [
    "Original code:"
   ]
  },
  {
   "cell_type": "code",
   "execution_count": null,
   "metadata": {
    "collapsed": true
   },
   "outputs": [],
   "source": [
    "geo_tweets = pop_keys(pop_tweets('yall.txt'), ['python', 'javascript', 'ruby'])\n",
    "geo_tweets = pd.concat([geo_tweets, yall_tweets], ignore_index=True)\n",
    "\n",
    "print('total geo_tweets:', len(geo_tweets))\n",
    "print('python', len(geo_tweets[geo_tweets['python']]))\n",
    "\n",
    "f = figure(plot_width=1200, plot_height=900,)\n",
    "....\n",
    "......\n",
    ".......\n"
   ]
  },
  {
   "cell_type": "markdown",
   "metadata": {},
   "source": [
    "Modified code:"
   ]
  },
  {
   "cell_type": "code",
   "execution_count": null,
   "metadata": {
    "collapsed": true
   },
   "outputs": [],
   "source": [
    "if __name__ == '__main__':\n",
    "    \"\"\"\n",
    "        these will be function calls that only you or maybe the team will run\n",
    "        \"\"\"\n",
    "    geo_tweets = pop_keys(pop_tweets('yall5.txt'), global_search_terms)\n",
    "    # yall_tweets = pop_keys(pop_tweets('yall_5.txt'), ['python', 'javascript', 'ruby'])\n",
    "    geo_tweets = pd.concat([geo_tweets], ignore_index=True)\n",
    "    \n",
    "    print('total geo_tweets:', len(geo_tweets))\n",
    "    print('python', len(geo_tweets[geo_tweets['python']]))\n",
    "    \n",
    "    plotter(global_search_terms[0],global_search_terms[1],global_search_terms[2])"
   ]
  },
  {
   "cell_type": "markdown",
   "metadata": {},
   "source": [
    "Q4: Formatting question. Why isn't the code written as follows (would this produce the same output?):"
   ]
  },
  {
   "cell_type": "code",
   "execution_count": null,
   "metadata": {
    "collapsed": true
   },
   "outputs": [],
   "source": [
    "def main():\n",
    "    geo_tweets = pop_keys(pop_tweets('yall5.txt'), global_search_terms)\n",
    "    # yall_tweets = pop_keys(pop_tweets('yall_5.txt'), ['python', 'javascript', 'ruby'])\n",
    "    geo_tweets = pd.concat([geo_tweets], ignore_index=True)\n",
    "    \n",
    "    print('total geo_tweets:', len(geo_tweets))\n",
    "    print('python', len(geo_tweets[geo_tweets['python']]))\n",
    "    \n",
    "    plotter(global_search_terms[0],global_search_terms[1],global_search_terms[2])\n",
    "\n",
    "if __name__=='__main__':\n",
    "\tmain() "
   ]
  },
  {
   "cell_type": "markdown",
   "metadata": {},
   "source": [
    "code source: http://aflyax.github.io/twitter-geo/"
   ]
  }
 ],
 "metadata": {
  "kernelspec": {
   "display_name": "Python 2",
   "language": "python",
   "name": "python2"
  },
  "language_info": {
   "codemirror_mode": {
    "name": "ipython",
    "version": 2
   },
   "file_extension": ".py",
   "mimetype": "text/x-python",
   "name": "python",
   "nbconvert_exporter": "python",
   "pygments_lexer": "ipython2",
   "version": "2.7.11"
  }
 },
 "nbformat": 4,
 "nbformat_minor": 0
}
